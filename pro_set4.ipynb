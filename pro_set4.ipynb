{
 "cells": [
  {
   "cell_type": "code",
   "execution_count": null,
   "id": "5825dd5c-050b-400a-b172-aafebb089098",
   "metadata": {
    "tags": []
   },
   "outputs": [
    {
     "name": "stdin",
     "output_type": "stream",
     "text": [
      "Enter card ID (23587624 my favor card ):  23587624\n"
     ]
    },
    {
     "name": "stdout",
     "output_type": "stream",
     "text": [
      "Retrieving https://images.ygoprodeck.com/images/cards_small/23587624.jpg\n",
      "Image size (width x height): (268, 391)\n"
     ]
    }
   ],
   "source": [
    "import urllib.request\n",
    "from PIL import Image\n",
    "from io import BytesIO\n",
    "\n",
    "serviceurl = 'https://images.ygoprodeck.com/images/cards_small'\n",
    "\n",
    "while True:\n",
    "    cards_small = input('Enter card ID (23587624 my favor card ): ')\n",
    "    if len(cards_small) < 1:\n",
    "        break\n",
    "\n",
    "    # Construct the URL to retrieve the image\n",
    "    url = f\"{serviceurl}/{cards_small}.jpg\"\n",
    "    print('Retrieving', url)\n",
    "\n",
    "    try:\n",
    "        # Open the URL and retrieve the image data\n",
    "        uh = urllib.request.urlopen(url)\n",
    "        image_data = uh.read()\n",
    "\n",
    "        # Open the image using Pillow for inspection\n",
    "        image = Image.open(BytesIO(image_data))\n",
    "\n",
    "        # Display the size of the image\n",
    "        print(f\"Image size (width x height): {image.size}\")\n",
    "\n",
    "    except Exception as e:\n",
    "        print(f\"Error retrieving or processing the image: {e}\")\n"
   ]
  },
  {
   "cell_type": "code",
   "execution_count": null,
   "id": "19a5358e-492d-459a-a924-e5e6350483b9",
   "metadata": {},
   "outputs": [],
   "source": []
  }
 ],
 "metadata": {
  "kernelspec": {
   "display_name": "UFRC Python-3.10",
   "language": "python",
   "name": "python3-3.10-ufrc"
  },
  "language_info": {
   "codemirror_mode": {
    "name": "ipython",
    "version": 3
   },
   "file_extension": ".py",
   "mimetype": "text/x-python",
   "name": "python",
   "nbconvert_exporter": "python",
   "pygments_lexer": "ipython3",
   "version": "3.10.8"
  }
 },
 "nbformat": 4,
 "nbformat_minor": 5
}
