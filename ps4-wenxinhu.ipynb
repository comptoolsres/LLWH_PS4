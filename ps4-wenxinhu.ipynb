{
 "cells": [
  {
   "cell_type": "code",
   "execution_count": null,
   "id": "6d849254-f42b-46a1-8ede-c95e43509218",
   "metadata": {
    "tags": []
   },
   "outputs": [
    {
     "name": "stdin",
     "output_type": "stream",
     "text": [
      "Enter a location:  California\n"
     ]
    },
    {
     "name": "stdout",
     "output_type": "stream",
     "text": [
      "Retrieving https://xeno-canto.org/api/2/recordings?query=loc:California\n",
      "Searched total recording:  12132\n",
      "Searched total species:  469\n"
     ]
    },
    {
     "name": "stdin",
     "output_type": "stream",
     "text": [
      "Enter a species in common name:  Bushtit\n"
     ]
    },
    {
     "name": "stdout",
     "output_type": "stream",
     "text": [
      "No files found in the species of Bushtit\n"
     ]
    },
    {
     "name": "stdin",
     "output_type": "stream",
     "text": [
      "Enter a location:  California\n"
     ]
    },
    {
     "name": "stdout",
     "output_type": "stream",
     "text": [
      "Retrieving https://xeno-canto.org/api/2/recordings?query=loc:California\n",
      "Searched total recording:  12132\n",
      "Searched total species:  469\n"
     ]
    },
    {
     "name": "stdin",
     "output_type": "stream",
     "text": [
      "Enter a species in common name:  California Quail\n"
     ]
    },
    {
     "name": "stdout",
     "output_type": "stream",
     "text": [
      "Numbers of file found in the species of California Quail 90\n",
      "California Quail data logged to species_data.csv\n"
     ]
    }
   ],
   "source": [
    "# The idea of this code is to search the uploaded audio file in desire location and specific species\n",
    "# After searching, the results will be output as CSV file\n",
    "\n",
    "# Getting sound recording information from xeno-canto.org in location of California\n",
    "import urllib.request, urllib.parse, urllib.error\n",
    "import json, csv\n",
    "\n",
    "serviceurl = \"https://xeno-canto.org/api/2/recordings\"\n",
    "\n",
    "# Start searching\n",
    "while True:\n",
    "    location = input(\"Enter a location: \")\n",
    "    if len(location) < 1: break\n",
    "    \n",
    "    # Create new url for searching\n",
    "    url = serviceurl + \"?query=\" + \"loc:\" + location\n",
    "    print(\"Retrieving\", url)\n",
    "    uh = urllib.request.urlopen(url)\n",
    "    data = uh.read().decode()\n",
    "    \n",
    "    # Save the searched data as dictionary in loc_data\n",
    "    try:\n",
    "        loc_data = json.loads(data)\n",
    "    except:\n",
    "        loc_data = None\n",
    "    \n",
    "    # Print total numbers of finding\n",
    "    print(\"Searched total recording: \", loc_data[\"numRecordings\"])\n",
    "    print(\"Searched total species: \", loc_data[\"numSpecies\"])\n",
    "    \n",
    "    # Search specific species in this location\n",
    "    species = input(\"Enter a species in common name: \")\n",
    "    recording = loc_data[\"recordings\"]\n",
    "    i = 0\n",
    "    count = 0\n",
    "    \n",
    "    # For loop for finding the desire species\n",
    "    for i in range(len(recording)):\n",
    "\n",
    "        species_name = recording[i][\"en\"]\n",
    "        species_rec = recording[i][\"rec\"]\n",
    "        species_type = recording[i][\"type\"]\n",
    "        species_file = recording[i][\"file\"]\n",
    "        species_file_name = recording[i][\"file-name\"]\n",
    "\n",
    "        if species_name == species:\n",
    "\n",
    "            # Write the searched data into a CSV file\n",
    "            with open(\"species_data.csv\", mode=\"a\", newline=\"\") as csv_file:\n",
    "                writer = csv.writer(csv_file)\n",
    "                # Write the file with the head of species name, record, recording type, recording file link and file name\n",
    "                writer.writerow([species, species_rec, species_type, species_file, species_file_name])\n",
    "                i += 1\n",
    "                count += 1\n",
    "\n",
    "        else:\n",
    "            i += 1\n",
    "\n",
    "    # Print the search result of the species\n",
    "    if count > 0:\n",
    "        print(\"Numbers of file found in the species of\", species, count)\n",
    "        print(species, \"data logged to species_data.csv\")\n",
    "    else:\n",
    "        print(\"No files found in the species of\", species)\n",
    "        "
   ]
  },
  {
   "cell_type": "code",
   "execution_count": null,
   "id": "f3ec4318-6009-4166-bf57-a79da34dc761",
   "metadata": {},
   "outputs": [],
   "source": []
  },
  {
   "cell_type": "code",
   "execution_count": null,
   "id": "43ca1ac0-11fd-47e9-a15c-bad29a714954",
   "metadata": {},
   "outputs": [],
   "source": []
  },
  {
   "cell_type": "code",
   "execution_count": null,
   "id": "96f643c9-7bb1-48b9-b2dd-8b93817fa2c7",
   "metadata": {},
   "outputs": [],
   "source": []
  }
 ],
 "metadata": {
  "kernelspec": {
   "display_name": "UFRC Python-3.10",
   "language": "python",
   "name": "python3-3.10-ufrc"
  },
  "language_info": {
   "codemirror_mode": {
    "name": "ipython",
    "version": 3
   },
   "file_extension": ".py",
   "mimetype": "text/x-python",
   "name": "python",
   "nbconvert_exporter": "python",
   "pygments_lexer": "ipython3",
   "version": "3.10.8"
  }
 },
 "nbformat": 4,
 "nbformat_minor": 5
}
